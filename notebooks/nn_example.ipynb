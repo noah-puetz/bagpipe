{
 "cells": [
  {
   "cell_type": "markdown",
   "metadata": {},
   "source": [
    "Load Data"
   ]
  },
  {
   "cell_type": "code",
   "execution_count": 16,
   "metadata": {},
   "outputs": [],
   "source": [
    "import pandas as pd\n",
    "import glob"
   ]
  },
  {
   "cell_type": "code",
   "execution_count": 17,
   "metadata": {},
   "outputs": [],
   "source": [
    "train_dflist = []\n",
    "for i, fname in enumerate(sorted(glob.glob(\"../data/2013_Targa_Sixty_Six\" + \"/*.csv\"))):\n",
    "    train_dflist.append(pd.read_csv(fname, sep=\",\"))\n",
    "    \n",
    "test_dflist = []\n",
    "for i, fname in enumerate(sorted(glob.glob(\"../data/2013_Laguna_Seca\" + \"/*.csv\"))):\n",
    "    test_dflist.append(pd.read_csv(fname, sep=\",\"))"
   ]
  },
  {
   "cell_type": "markdown",
   "metadata": {},
   "source": [
    "Setup Pytorch Dataset for RNN Training"
   ]
  },
  {
   "cell_type": "code",
   "execution_count": 18,
   "metadata": {},
   "outputs": [],
   "source": [
    "from torch.utils.data import Dataset, DataLoader\n",
    "import torch"
   ]
  },
  {
   "cell_type": "code",
   "execution_count": 19,
   "metadata": {},
   "outputs": [],
   "source": [
    "class CarDataset(Dataset):\n",
    "    def __init__(self, df, target, seq_length, dtype=torch.float32):\n",
    "        self.data = df.copy(deep=True)\n",
    "        self.seq_length = seq_length\n",
    "        self.y = torch.tensor(self.data[target].to_numpy(), dtype=dtype)\n",
    "        self.X = torch.tensor(\n",
    "            self.data.drop(\n",
    "                [\"sideSlip\", \"vxCG\", \"vyCG\", \"time\", \"longitude\", \"latitude\"], axis=1\n",
    "            ).to_numpy(),\n",
    "            dtype=dtype,\n",
    "        )\n",
    "\n",
    "    def __getitem__(self, index):\n",
    "        x = self.X[index]\n",
    "        y = self.y[index]  # -1 important to avoid forecasting!\n",
    "        return x, y\n",
    "\n",
    "    def __len__(self):\n",
    "        return len(self.data) - self.seq_length"
   ]
  },
  {
   "cell_type": "markdown",
   "metadata": {},
   "source": [
    "Preprocess Data"
   ]
  },
  {
   "cell_type": "code",
   "execution_count": 20,
   "metadata": {},
   "outputs": [],
   "source": [
    "columns_to_standardize = [\n",
    "    \"engineSpeed\",\n",
    "    \"handwheelAngle\",\n",
    "    \"throttle\",\n",
    "    \"brake\",\n",
    "    \"axCG\",\n",
    "    \"ayCG\",\n",
    "    \"yawRate\",\n",
    "    \"chassisAccelFL\",\n",
    "    \"chassisAccelFR\",\n",
    "    \"chassisAccelRL\",\n",
    "    \"chassisAccelRR\",\n",
    "]\n",
    "\n",
    "columns_to_minmax = [\n",
    "    \"vyCG\",\n",
    "    \"vxCG\",\n",
    "    \"sideSlip\" \n",
    "]"
   ]
  },
  {
   "cell_type": "code",
   "execution_count": 21,
   "metadata": {},
   "outputs": [],
   "source": [
    "from sklearn.pipeline import Pipeline\n",
    "from sklearn.compose import ColumnTransformer\n",
    "from bagpipe.preprocessing import ApplyThreshold, _ConcatDataFrames, _SeparateDataFrames, SkScalerWrapper, CreateConcatDataset\n",
    "from sklearn import set_config\n",
    "from sklearn.preprocessing import StandardScaler, MinMaxScaler\n",
    "\n",
    "set_config(display=\"diagram\")"
   ]
  },
  {
   "cell_type": "markdown",
   "metadata": {},
   "source": [
    "Example Pipeline 2: Merging Dataframe List via Indexing to apply global scaling with out-of-the-box sklearn transformers"
   ]
  },
  {
   "cell_type": "code",
   "execution_count": 22,
   "metadata": {},
   "outputs": [
    {
     "data": {
      "text/html": [
       "<style>#sk-container-id-2 {color: black;}#sk-container-id-2 pre{padding: 0;}#sk-container-id-2 div.sk-toggleable {background-color: white;}#sk-container-id-2 label.sk-toggleable__label {cursor: pointer;display: block;width: 100%;margin-bottom: 0;padding: 0.3em;box-sizing: border-box;text-align: center;}#sk-container-id-2 label.sk-toggleable__label-arrow:before {content: \"▸\";float: left;margin-right: 0.25em;color: #696969;}#sk-container-id-2 label.sk-toggleable__label-arrow:hover:before {color: black;}#sk-container-id-2 div.sk-estimator:hover label.sk-toggleable__label-arrow:before {color: black;}#sk-container-id-2 div.sk-toggleable__content {max-height: 0;max-width: 0;overflow: hidden;text-align: left;background-color: #f0f8ff;}#sk-container-id-2 div.sk-toggleable__content pre {margin: 0.2em;color: black;border-radius: 0.25em;background-color: #f0f8ff;}#sk-container-id-2 input.sk-toggleable__control:checked~div.sk-toggleable__content {max-height: 200px;max-width: 100%;overflow: auto;}#sk-container-id-2 input.sk-toggleable__control:checked~label.sk-toggleable__label-arrow:before {content: \"▾\";}#sk-container-id-2 div.sk-estimator input.sk-toggleable__control:checked~label.sk-toggleable__label {background-color: #d4ebff;}#sk-container-id-2 div.sk-label input.sk-toggleable__control:checked~label.sk-toggleable__label {background-color: #d4ebff;}#sk-container-id-2 input.sk-hidden--visually {border: 0;clip: rect(1px 1px 1px 1px);clip: rect(1px, 1px, 1px, 1px);height: 1px;margin: -1px;overflow: hidden;padding: 0;position: absolute;width: 1px;}#sk-container-id-2 div.sk-estimator {font-family: monospace;background-color: #f0f8ff;border: 1px dotted black;border-radius: 0.25em;box-sizing: border-box;margin-bottom: 0.5em;}#sk-container-id-2 div.sk-estimator:hover {background-color: #d4ebff;}#sk-container-id-2 div.sk-parallel-item::after {content: \"\";width: 100%;border-bottom: 1px solid gray;flex-grow: 1;}#sk-container-id-2 div.sk-label:hover label.sk-toggleable__label {background-color: #d4ebff;}#sk-container-id-2 div.sk-serial::before {content: \"\";position: absolute;border-left: 1px solid gray;box-sizing: border-box;top: 0;bottom: 0;left: 50%;z-index: 0;}#sk-container-id-2 div.sk-serial {display: flex;flex-direction: column;align-items: center;background-color: white;padding-right: 0.2em;padding-left: 0.2em;position: relative;}#sk-container-id-2 div.sk-item {position: relative;z-index: 1;}#sk-container-id-2 div.sk-parallel {display: flex;align-items: stretch;justify-content: center;background-color: white;position: relative;}#sk-container-id-2 div.sk-item::before, #sk-container-id-2 div.sk-parallel-item::before {content: \"\";position: absolute;border-left: 1px solid gray;box-sizing: border-box;top: 0;bottom: 0;left: 50%;z-index: -1;}#sk-container-id-2 div.sk-parallel-item {display: flex;flex-direction: column;z-index: 1;position: relative;background-color: white;}#sk-container-id-2 div.sk-parallel-item:first-child::after {align-self: flex-end;width: 50%;}#sk-container-id-2 div.sk-parallel-item:last-child::after {align-self: flex-start;width: 50%;}#sk-container-id-2 div.sk-parallel-item:only-child::after {width: 0;}#sk-container-id-2 div.sk-dashed-wrapped {border: 1px dashed gray;margin: 0 0.4em 0.5em 0.4em;box-sizing: border-box;padding-bottom: 0.4em;background-color: white;}#sk-container-id-2 div.sk-label label {font-family: monospace;font-weight: bold;display: inline-block;line-height: 1.2em;}#sk-container-id-2 div.sk-label-container {text-align: center;}#sk-container-id-2 div.sk-container {/* jupyter's `normalize.less` sets `[hidden] { display: none; }` but bootstrap.min.css set `[hidden] { display: none !important; }` so we also need the `!important` here to be able to override the default hidden behavior on the sphinx rendered scikit-learn.org. See: https://github.com/scikit-learn/scikit-learn/issues/21755 */display: inline-block !important;position: relative;}#sk-container-id-2 div.sk-text-repr-fallback {display: none;}</style><div id=\"sk-container-id-2\" class=\"sk-top-container\"><div class=\"sk-text-repr-fallback\"><pre>Pipeline(steps=[(&#x27;threshold&#x27;,\n",
       "                 ApplyThreshold(by=&#x27;vxCG&#x27;, seq_length=10, threshold=10)),\n",
       "                (&#x27;concat&#x27;, _ConcatDataFrames()),\n",
       "                (&#x27;column transformer&#x27;,\n",
       "                 ColumnTransformer(remainder=&#x27;passthrough&#x27;,\n",
       "                                   transformers=[(&#x27;stand&#x27;, StandardScaler(),\n",
       "                                                  [&#x27;engineSpeed&#x27;,\n",
       "                                                   &#x27;handwheelAngle&#x27;, &#x27;throttle&#x27;,\n",
       "                                                   &#x27;brake&#x27;, &#x27;axCG&#x27;, &#x27;ayCG&#x27;,\n",
       "                                                   &#x27;yawRate&#x27;, &#x27;chassisAccelFL&#x27;,\n",
       "                                                   &#x27;chassisAccelFR&#x27;,\n",
       "                                                   &#x27;chassisAccelRL&#x27;,\n",
       "                                                   &#x27;chassisAccelRR&#x27;]),\n",
       "                                                 (&#x27;minmax&#x27;, MinMaxScaler(),\n",
       "                                                  [&#x27;vyCG&#x27;, &#x27;vxCG&#x27;,\n",
       "                                                   &#x27;sideSlip&#x27;])],\n",
       "                                   verbose_feature_names_out=False)),\n",
       "                (&#x27;separate&#x27;, _SeparateDataFrames()),\n",
       "                (&#x27;concat dataset&#x27;,\n",
       "                 CreateConcatDataset(dataset_class=&lt;class &#x27;__main__.CarDataset&#x27;&gt;))])</pre><b>In a Jupyter environment, please rerun this cell to show the HTML representation or trust the notebook. <br />On GitHub, the HTML representation is unable to render, please try loading this page with nbviewer.org.</b></div><div class=\"sk-container\" hidden><div class=\"sk-item sk-dashed-wrapped\"><div class=\"sk-label-container\"><div class=\"sk-label sk-toggleable\"><input class=\"sk-toggleable__control sk-hidden--visually\" id=\"sk-estimator-id-13\" type=\"checkbox\" ><label for=\"sk-estimator-id-13\" class=\"sk-toggleable__label sk-toggleable__label-arrow\">Pipeline</label><div class=\"sk-toggleable__content\"><pre>Pipeline(steps=[(&#x27;threshold&#x27;,\n",
       "                 ApplyThreshold(by=&#x27;vxCG&#x27;, seq_length=10, threshold=10)),\n",
       "                (&#x27;concat&#x27;, _ConcatDataFrames()),\n",
       "                (&#x27;column transformer&#x27;,\n",
       "                 ColumnTransformer(remainder=&#x27;passthrough&#x27;,\n",
       "                                   transformers=[(&#x27;stand&#x27;, StandardScaler(),\n",
       "                                                  [&#x27;engineSpeed&#x27;,\n",
       "                                                   &#x27;handwheelAngle&#x27;, &#x27;throttle&#x27;,\n",
       "                                                   &#x27;brake&#x27;, &#x27;axCG&#x27;, &#x27;ayCG&#x27;,\n",
       "                                                   &#x27;yawRate&#x27;, &#x27;chassisAccelFL&#x27;,\n",
       "                                                   &#x27;chassisAccelFR&#x27;,\n",
       "                                                   &#x27;chassisAccelRL&#x27;,\n",
       "                                                   &#x27;chassisAccelRR&#x27;]),\n",
       "                                                 (&#x27;minmax&#x27;, MinMaxScaler(),\n",
       "                                                  [&#x27;vyCG&#x27;, &#x27;vxCG&#x27;,\n",
       "                                                   &#x27;sideSlip&#x27;])],\n",
       "                                   verbose_feature_names_out=False)),\n",
       "                (&#x27;separate&#x27;, _SeparateDataFrames()),\n",
       "                (&#x27;concat dataset&#x27;,\n",
       "                 CreateConcatDataset(dataset_class=&lt;class &#x27;__main__.CarDataset&#x27;&gt;))])</pre></div></div></div><div class=\"sk-serial\"><div class=\"sk-item\"><div class=\"sk-estimator sk-toggleable\"><input class=\"sk-toggleable__control sk-hidden--visually\" id=\"sk-estimator-id-14\" type=\"checkbox\" ><label for=\"sk-estimator-id-14\" class=\"sk-toggleable__label sk-toggleable__label-arrow\">ApplyThreshold</label><div class=\"sk-toggleable__content\"><pre>ApplyThreshold(by=&#x27;vxCG&#x27;, seq_length=10, threshold=10)</pre></div></div></div><div class=\"sk-item\"><div class=\"sk-estimator sk-toggleable\"><input class=\"sk-toggleable__control sk-hidden--visually\" id=\"sk-estimator-id-15\" type=\"checkbox\" ><label for=\"sk-estimator-id-15\" class=\"sk-toggleable__label sk-toggleable__label-arrow\">_ConcatDataFrames</label><div class=\"sk-toggleable__content\"><pre>_ConcatDataFrames()</pre></div></div></div><div class=\"sk-item sk-dashed-wrapped\"><div class=\"sk-label-container\"><div class=\"sk-label sk-toggleable\"><input class=\"sk-toggleable__control sk-hidden--visually\" id=\"sk-estimator-id-16\" type=\"checkbox\" ><label for=\"sk-estimator-id-16\" class=\"sk-toggleable__label sk-toggleable__label-arrow\">column transformer: ColumnTransformer</label><div class=\"sk-toggleable__content\"><pre>ColumnTransformer(remainder=&#x27;passthrough&#x27;,\n",
       "                  transformers=[(&#x27;stand&#x27;, StandardScaler(),\n",
       "                                 [&#x27;engineSpeed&#x27;, &#x27;handwheelAngle&#x27;, &#x27;throttle&#x27;,\n",
       "                                  &#x27;brake&#x27;, &#x27;axCG&#x27;, &#x27;ayCG&#x27;, &#x27;yawRate&#x27;,\n",
       "                                  &#x27;chassisAccelFL&#x27;, &#x27;chassisAccelFR&#x27;,\n",
       "                                  &#x27;chassisAccelRL&#x27;, &#x27;chassisAccelRR&#x27;]),\n",
       "                                (&#x27;minmax&#x27;, MinMaxScaler(),\n",
       "                                 [&#x27;vyCG&#x27;, &#x27;vxCG&#x27;, &#x27;sideSlip&#x27;])],\n",
       "                  verbose_feature_names_out=False)</pre></div></div></div><div class=\"sk-parallel\"><div class=\"sk-parallel-item\"><div class=\"sk-item\"><div class=\"sk-label-container\"><div class=\"sk-label sk-toggleable\"><input class=\"sk-toggleable__control sk-hidden--visually\" id=\"sk-estimator-id-17\" type=\"checkbox\" ><label for=\"sk-estimator-id-17\" class=\"sk-toggleable__label sk-toggleable__label-arrow\">stand</label><div class=\"sk-toggleable__content\"><pre>[&#x27;engineSpeed&#x27;, &#x27;handwheelAngle&#x27;, &#x27;throttle&#x27;, &#x27;brake&#x27;, &#x27;axCG&#x27;, &#x27;ayCG&#x27;, &#x27;yawRate&#x27;, &#x27;chassisAccelFL&#x27;, &#x27;chassisAccelFR&#x27;, &#x27;chassisAccelRL&#x27;, &#x27;chassisAccelRR&#x27;]</pre></div></div></div><div class=\"sk-serial\"><div class=\"sk-item\"><div class=\"sk-estimator sk-toggleable\"><input class=\"sk-toggleable__control sk-hidden--visually\" id=\"sk-estimator-id-18\" type=\"checkbox\" ><label for=\"sk-estimator-id-18\" class=\"sk-toggleable__label sk-toggleable__label-arrow\">StandardScaler</label><div class=\"sk-toggleable__content\"><pre>StandardScaler()</pre></div></div></div></div></div></div><div class=\"sk-parallel-item\"><div class=\"sk-item\"><div class=\"sk-label-container\"><div class=\"sk-label sk-toggleable\"><input class=\"sk-toggleable__control sk-hidden--visually\" id=\"sk-estimator-id-19\" type=\"checkbox\" ><label for=\"sk-estimator-id-19\" class=\"sk-toggleable__label sk-toggleable__label-arrow\">minmax</label><div class=\"sk-toggleable__content\"><pre>[&#x27;vyCG&#x27;, &#x27;vxCG&#x27;, &#x27;sideSlip&#x27;]</pre></div></div></div><div class=\"sk-serial\"><div class=\"sk-item\"><div class=\"sk-estimator sk-toggleable\"><input class=\"sk-toggleable__control sk-hidden--visually\" id=\"sk-estimator-id-20\" type=\"checkbox\" ><label for=\"sk-estimator-id-20\" class=\"sk-toggleable__label sk-toggleable__label-arrow\">MinMaxScaler</label><div class=\"sk-toggleable__content\"><pre>MinMaxScaler()</pre></div></div></div></div></div></div><div class=\"sk-parallel-item\"><div class=\"sk-item\"><div class=\"sk-label-container\"><div class=\"sk-label sk-toggleable\"><input class=\"sk-toggleable__control sk-hidden--visually\" id=\"sk-estimator-id-21\" type=\"checkbox\" ><label for=\"sk-estimator-id-21\" class=\"sk-toggleable__label sk-toggleable__label-arrow\">remainder</label><div class=\"sk-toggleable__content\"><pre></pre></div></div></div><div class=\"sk-serial\"><div class=\"sk-item\"><div class=\"sk-estimator sk-toggleable\"><input class=\"sk-toggleable__control sk-hidden--visually\" id=\"sk-estimator-id-22\" type=\"checkbox\" ><label for=\"sk-estimator-id-22\" class=\"sk-toggleable__label sk-toggleable__label-arrow\">passthrough</label><div class=\"sk-toggleable__content\"><pre>passthrough</pre></div></div></div></div></div></div></div></div><div class=\"sk-item\"><div class=\"sk-estimator sk-toggleable\"><input class=\"sk-toggleable__control sk-hidden--visually\" id=\"sk-estimator-id-23\" type=\"checkbox\" ><label for=\"sk-estimator-id-23\" class=\"sk-toggleable__label sk-toggleable__label-arrow\">_SeparateDataFrames</label><div class=\"sk-toggleable__content\"><pre>_SeparateDataFrames()</pre></div></div></div><div class=\"sk-item\"><div class=\"sk-estimator sk-toggleable\"><input class=\"sk-toggleable__control sk-hidden--visually\" id=\"sk-estimator-id-24\" type=\"checkbox\" ><label for=\"sk-estimator-id-24\" class=\"sk-toggleable__label sk-toggleable__label-arrow\">CreateConcatDataset</label><div class=\"sk-toggleable__content\"><pre>CreateConcatDataset(dataset_class=&lt;class &#x27;__main__.CarDataset&#x27;&gt;)</pre></div></div></div></div></div></div></div>"
      ],
      "text/plain": [
       "Pipeline(steps=[('threshold',\n",
       "                 ApplyThreshold(by='vxCG', seq_length=10, threshold=10)),\n",
       "                ('concat', _ConcatDataFrames()),\n",
       "                ('column transformer',\n",
       "                 ColumnTransformer(remainder='passthrough',\n",
       "                                   transformers=[('stand', StandardScaler(),\n",
       "                                                  ['engineSpeed',\n",
       "                                                   'handwheelAngle', 'throttle',\n",
       "                                                   'brake', 'axCG', 'ayCG',\n",
       "                                                   'yawRate', 'chassisAccelFL',\n",
       "                                                   'chassisAccelFR',\n",
       "                                                   'chassisAccelRL',\n",
       "                                                   'chassisAccelRR']),\n",
       "                                                 ('minmax', MinMaxScaler(),\n",
       "                                                  ['vyCG', 'vxCG',\n",
       "                                                   'sideSlip'])],\n",
       "                                   verbose_feature_names_out=False)),\n",
       "                ('separate', _SeparateDataFrames()),\n",
       "                ('concat dataset',\n",
       "                 CreateConcatDataset(dataset_class=<class '__main__.CarDataset'>))])"
      ]
     },
     "execution_count": 22,
     "metadata": {},
     "output_type": "execute_result"
    }
   ],
   "source": [
    "ct = ColumnTransformer([(\"stand\", StandardScaler(), columns_to_standardize),\n",
    "                        (\"minmax\", MinMaxScaler(), columns_to_minmax)],\n",
    "                       remainder=\"passthrough\",\n",
    "                       verbose_feature_names_out=False)\n",
    "\n",
    "pipeline_v2 = Pipeline([('threshold', ApplyThreshold(threshold=10, by=\"vxCG\", seq_length=10)), \n",
    "                     ('concat', _ConcatDataFrames()), \n",
    "                     ('column transformer', ct.set_output(transform=\"pandas\")),\n",
    "                     ('separate', _SeparateDataFrames()),\n",
    "                     ('concat dataset', CreateConcatDataset(CarDataset, target=\"vxCG\", seq_length=10)),\n",
    "                     ])\n",
    "pipeline_v2"
   ]
  },
  {
   "cell_type": "markdown",
   "metadata": {},
   "source": [
    "Application of the Example 2 Pipeline on the train data"
   ]
  },
  {
   "cell_type": "code",
   "execution_count": 23,
   "metadata": {},
   "outputs": [],
   "source": [
    "train_dataset = pipeline_v2.fit_transform(train_dflist)"
   ]
  },
  {
   "cell_type": "markdown",
   "metadata": {},
   "source": [
    "Application of the fitted pipeline on the test data (to scale with mean and std of the train data (known during training))"
   ]
  },
  {
   "cell_type": "code",
   "execution_count": 24,
   "metadata": {},
   "outputs": [],
   "source": [
    "test_dataset = pipeline_v2.transform(test_dflist)"
   ]
  },
  {
   "cell_type": "markdown",
   "metadata": {},
   "source": [
    "Pass concatenated datasets to the dataloaders"
   ]
  },
  {
   "cell_type": "code",
   "execution_count": 25,
   "metadata": {},
   "outputs": [],
   "source": [
    "train_dataloader = DataLoader(train_dataset, batch_size=256, shuffle=True)\n",
    "test_dataloader = DataLoader(test_dataset, batch_size=256, shuffle=True)"
   ]
  },
  {
   "cell_type": "markdown",
   "metadata": {},
   "source": [
    "Setup simple RNN Training"
   ]
  },
  {
   "cell_type": "code",
   "execution_count": 26,
   "metadata": {},
   "outputs": [
    {
     "data": {
      "text/plain": [
       "'cuda'"
      ]
     },
     "execution_count": 26,
     "metadata": {},
     "output_type": "execute_result"
    }
   ],
   "source": [
    "import torch.nn as nn\n",
    "device = \"cuda\" if torch.cuda.is_available() else \"mps\" if torch.backends.mps.is_available() else \"cpu\"\n",
    "device"
   ]
  },
  {
   "cell_type": "code",
   "execution_count": 33,
   "metadata": {},
   "outputs": [],
   "source": [
    "class Model(nn.Module):\n",
    "    def __init__(self, input_size, hidden_size, num_layers, output_size):\n",
    "        super(Model, self).__init__()\n",
    "        self.num_layers = num_layers\n",
    "        self.hidden_size = hidden_size\n",
    "        self.fc1 = nn.Linear(input_size, hidden_size)\n",
    "        self.fc2 = nn.Linear(hidden_size, hidden_size)\n",
    "        self.fc3 = nn.Linear(hidden_size, output_size)\n",
    "        self.ReLU = nn.ReLU()\n",
    "\n",
    "    def forward(self, x):\n",
    "        out = self.fc1(x)\n",
    "        out = self.ReLU(out)\n",
    "        out = self.fc2(out)\n",
    "        out = self.ReLU(out)\n",
    "        out = self.fc3(out)\n",
    "\n",
    "        return out"
   ]
  },
  {
   "cell_type": "code",
   "execution_count": 34,
   "metadata": {},
   "outputs": [],
   "source": [
    "# initialize the model\n",
    "input_size = 11\n",
    "hidden_size = 10\n",
    "num_layers = 1\n",
    "output_size = 1\n",
    "lr = 0.01\n",
    "\n",
    "model = Model(input_size, \n",
    "                 hidden_size, \n",
    "                 num_layers, \n",
    "                 output_size\n",
    "                 ).to(device)\n",
    "\n",
    "# define the loss function and optimizer\n",
    "criterion = nn.L1Loss()\n",
    "optimizer = torch.optim.Adam(model.parameters(), lr=lr)"
   ]
  },
  {
   "cell_type": "markdown",
   "metadata": {},
   "source": [
    "Training Loop"
   ]
  },
  {
   "cell_type": "code",
   "execution_count": 35,
   "metadata": {},
   "outputs": [
    {
     "name": "stdout",
     "output_type": "stream",
     "text": [
      "EPOCH 1 of 5 batch 159 of 159 loss: 0.0653 \n",
      "EPOCH 2 of 5 batch 159 of 159 loss: 0.0608 \n",
      "EPOCH 3 of 5 batch 159 of 159 loss: 0.061  \n",
      "EPOCH 4 of 5 batch 159 of 159 loss: 0.0579 \n",
      "EPOCH 5 of 5 batch 159 of 159 loss: 0.0505 \n"
     ]
    }
   ],
   "source": [
    "num_epochs = 5\n",
    "\n",
    "model.train()\n",
    "for epoch in range(num_epochs):\n",
    "        running_train_loss = 0.0\n",
    "        for step, (x, y) in enumerate(train_dataloader):\n",
    "                X, y = x.to(device), y.to(device).reshape([len(y),1])\n",
    "\n",
    "                optimizer.zero_grad()\n",
    "                pred = model(X)\n",
    "                \n",
    "                train_loss = criterion(pred, y)\n",
    "                train_loss.backward()\n",
    "                \n",
    "                optimizer.step()\n",
    "        \n",
    "                print(f'EPOCH {epoch+1} of {num_epochs} batch {step+1} of {len(train_dataloader)} loss: {round(train_loss.item(),4)} ', end=\"\\r\")\n",
    "        print(\"\")"
   ]
  },
  {
   "cell_type": "markdown",
   "metadata": {},
   "source": [
    "Testing"
   ]
  },
  {
   "cell_type": "code",
   "execution_count": 36,
   "metadata": {},
   "outputs": [
    {
     "name": "stdout",
     "output_type": "stream",
     "text": [
      "Avg. Loss: 0.08479256670155247\n"
     ]
    }
   ],
   "source": [
    "model.eval()\n",
    "correct = 0\n",
    "total = 0\n",
    "total_loss = 0  \n",
    "with torch.no_grad():\n",
    "    for step, (x, y) in enumerate(test_dataloader):\n",
    "        X, y = x.to(device), y.to(device).reshape([len(y),1])\n",
    "\n",
    "        pred = model(X)\n",
    "        loss = criterion(pred, y)\n",
    "        total_loss += loss.item()\n",
    "\n",
    "    print(f\"Avg. Loss: {total_loss/step}\")"
   ]
  }
 ],
 "metadata": {
  "kernelspec": {
   "display_name": "mlvenv",
   "language": "python",
   "name": "python3"
  },
  "language_info": {
   "codemirror_mode": {
    "name": "ipython",
    "version": 3
   },
   "file_extension": ".py",
   "mimetype": "text/x-python",
   "name": "python",
   "nbconvert_exporter": "python",
   "pygments_lexer": "ipython3",
   "version": "3.10.12"
  }
 },
 "nbformat": 4,
 "nbformat_minor": 2
}
